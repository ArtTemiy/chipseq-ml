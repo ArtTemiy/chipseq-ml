{
 "cells": [
  {
   "cell_type": "code",
   "execution_count": 119,
   "metadata": {},
   "outputs": [],
   "source": [
    "import numpy as np\n",
    "import matplotlib.pyplot as plt\n",
    "import pandas as pd\n",
    "\n",
    "import json"
   ]
  },
  {
   "cell_type": "markdown",
   "metadata": {},
   "source": [
    "## Load data"
   ]
  },
  {
   "cell_type": "code",
   "execution_count": 4,
   "metadata": {},
   "outputs": [],
   "source": [
    "def read_bed(file):\n",
    "    return pd.read_csv(file, sep='\\t', header=None)"
   ]
  },
  {
   "cell_type": "code",
   "execution_count": 115,
   "metadata": {},
   "outputs": [],
   "source": [
    "EXP_NAME = 'curax_14h_UNI_mm9'"
   ]
  },
  {
   "cell_type": "code",
   "execution_count": 98,
   "metadata": {},
   "outputs": [
    {
     "data": {
      "text/html": [
       "<div>\n",
       "<style scoped>\n",
       "    .dataframe tbody tr th:only-of-type {\n",
       "        vertical-align: middle;\n",
       "    }\n",
       "\n",
       "    .dataframe tbody tr th {\n",
       "        vertical-align: top;\n",
       "    }\n",
       "\n",
       "    .dataframe thead th {\n",
       "        text-align: right;\n",
       "    }\n",
       "</style>\n",
       "<table border=\"1\" class=\"dataframe\">\n",
       "  <thead>\n",
       "    <tr style=\"text-align: right;\">\n",
       "      <th></th>\n",
       "      <th>chr</th>\n",
       "      <th>start</th>\n",
       "      <th>end</th>\n",
       "    </tr>\n",
       "  </thead>\n",
       "  <tbody>\n",
       "    <tr>\n",
       "      <th>0</th>\n",
       "      <td>chr1</td>\n",
       "      <td>4549822</td>\n",
       "      <td>4550312</td>\n",
       "    </tr>\n",
       "    <tr>\n",
       "      <th>1</th>\n",
       "      <td>chr1</td>\n",
       "      <td>5062248</td>\n",
       "      <td>5062630</td>\n",
       "    </tr>\n",
       "    <tr>\n",
       "      <th>2</th>\n",
       "      <td>chr1</td>\n",
       "      <td>6907202</td>\n",
       "      <td>6907470</td>\n",
       "    </tr>\n",
       "    <tr>\n",
       "      <th>3</th>\n",
       "      <td>chr1</td>\n",
       "      <td>8019995</td>\n",
       "      <td>8020610</td>\n",
       "    </tr>\n",
       "    <tr>\n",
       "      <th>4</th>\n",
       "      <td>chr1</td>\n",
       "      <td>9165646</td>\n",
       "      <td>9165931</td>\n",
       "    </tr>\n",
       "    <tr>\n",
       "      <th>...</th>\n",
       "      <td>...</td>\n",
       "      <td>...</td>\n",
       "      <td>...</td>\n",
       "    </tr>\n",
       "    <tr>\n",
       "      <th>1956</th>\n",
       "      <td>chrY_random</td>\n",
       "      <td>5277945</td>\n",
       "      <td>5278260</td>\n",
       "    </tr>\n",
       "    <tr>\n",
       "      <th>1957</th>\n",
       "      <td>chrY_random</td>\n",
       "      <td>11777722</td>\n",
       "      <td>11778059</td>\n",
       "    </tr>\n",
       "    <tr>\n",
       "      <th>1958</th>\n",
       "      <td>chrY_random</td>\n",
       "      <td>19640868</td>\n",
       "      <td>19641420</td>\n",
       "    </tr>\n",
       "    <tr>\n",
       "      <th>1959</th>\n",
       "      <td>chrY_random</td>\n",
       "      <td>28369780</td>\n",
       "      <td>28370118</td>\n",
       "    </tr>\n",
       "    <tr>\n",
       "      <th>1960</th>\n",
       "      <td>chrY_random</td>\n",
       "      <td>48300886</td>\n",
       "      <td>48301241</td>\n",
       "    </tr>\n",
       "  </tbody>\n",
       "</table>\n",
       "<p>1961 rows × 3 columns</p>\n",
       "</div>"
      ],
      "text/plain": [
       "              chr     start       end\n",
       "0            chr1   4549822   4550312\n",
       "1            chr1   5062248   5062630\n",
       "2            chr1   6907202   6907470\n",
       "3            chr1   8019995   8020610\n",
       "4            chr1   9165646   9165931\n",
       "...           ...       ...       ...\n",
       "1956  chrY_random   5277945   5278260\n",
       "1957  chrY_random  11777722  11778059\n",
       "1958  chrY_random  19640868  19641420\n",
       "1959  chrY_random  28369780  28370118\n",
       "1960  chrY_random  48300886  48301241\n",
       "\n",
       "[1961 rows x 3 columns]"
      ]
     },
     "execution_count": 98,
     "metadata": {},
     "output_type": "execute_result"
    }
   ],
   "source": [
    "data = read_bed(f'{EXP_NAME}.bed')\n",
    "data.columns = ['chr', 'start', 'end']\n",
    "\n",
    "data"
   ]
  },
  {
   "cell_type": "markdown",
   "metadata": {},
   "source": [
    "## Filter out chromosomes with low data\n",
    "Нам не нужны данные хромосом, где мало данных, типа chrX_random, поэтому их мы убираем"
   ]
  },
  {
   "cell_type": "code",
   "execution_count": 99,
   "metadata": {},
   "outputs": [
    {
     "name": "stdout",
     "output_type": "stream",
     "text": [
      "[('chrX', 192), ('chr6', 139), ('chr1', 133), ('chr3', 125), ('chr4', 118), ('chr7', 116), ('chr5', 114), ('chr2', 108), ('chr8', 102), ('chr10', 88), ('chr9', 86), ('chr17', 82), ('chr14', 80), ('chr13', 75), ('chr16', 73), ('chr11', 71), ('chr12', 70), ('chr15', 65), ('chr18', 62), ('chr19', 29), ('chrUn_random', 19), ('chrY_random', 6), ('chr8_random', 3), ('chr1_random', 2), ('chrM', 1), ('chr9_random', 1), ('chrY', 1)]\n"
     ]
    }
   ],
   "source": [
    "print(list(data.chr.value_counts().items()))"
   ]
  },
  {
   "cell_type": "code",
   "execution_count": 100,
   "metadata": {},
   "outputs": [],
   "source": [
    "# Set threshold\n",
    "threshold = 20\n",
    "\n",
    "filtered_chroms = list(data.chr.value_counts()[data.chr.value_counts() > threshold].index)\n",
    "data = data[sum(list((data.chr == chromosome) for chromosome in filtered_chroms)) == 1]"
   ]
  },
  {
   "cell_type": "markdown",
   "metadata": {},
   "source": [
    "## Regions length statistics"
   ]
  },
  {
   "cell_type": "code",
   "execution_count": 101,
   "metadata": {},
   "outputs": [
    {
     "name": "stderr",
     "output_type": "stream",
     "text": [
      "<ipython-input-101-852514e1c528>:2: SettingWithCopyWarning: \n",
      "A value is trying to be set on a copy of a slice from a DataFrame.\n",
      "Try using .loc[row_indexer,col_indexer] = value instead\n",
      "\n",
      "See the caveats in the documentation: https://pandas.pydata.org/pandas-docs/stable/user_guide/indexing.html#returning-a-view-versus-a-copy\n",
      "  data['length'] = data.end - data.start\n",
      "<ipython-input-101-852514e1c528>:3: SettingWithCopyWarning: \n",
      "A value is trying to be set on a copy of a slice from a DataFrame.\n",
      "Try using .loc[row_indexer,col_indexer] = value instead\n",
      "\n",
      "See the caveats in the documentation: https://pandas.pydata.org/pandas-docs/stable/user_guide/indexing.html#returning-a-view-versus-a-copy\n",
      "  data['center'] = (data.end + data.start) // 2\n"
     ]
    },
    {
     "data": {
      "text/html": [
       "<div>\n",
       "<style scoped>\n",
       "    .dataframe tbody tr th:only-of-type {\n",
       "        vertical-align: middle;\n",
       "    }\n",
       "\n",
       "    .dataframe tbody tr th {\n",
       "        vertical-align: top;\n",
       "    }\n",
       "\n",
       "    .dataframe thead th {\n",
       "        text-align: right;\n",
       "    }\n",
       "</style>\n",
       "<table border=\"1\" class=\"dataframe\">\n",
       "  <thead>\n",
       "    <tr style=\"text-align: right;\">\n",
       "      <th></th>\n",
       "      <th>chr</th>\n",
       "      <th>start</th>\n",
       "      <th>end</th>\n",
       "      <th>length</th>\n",
       "      <th>center</th>\n",
       "    </tr>\n",
       "  </thead>\n",
       "  <tbody>\n",
       "    <tr>\n",
       "      <th>0</th>\n",
       "      <td>chr1</td>\n",
       "      <td>4549822</td>\n",
       "      <td>4550312</td>\n",
       "      <td>490</td>\n",
       "      <td>4550067</td>\n",
       "    </tr>\n",
       "    <tr>\n",
       "      <th>1</th>\n",
       "      <td>chr1</td>\n",
       "      <td>5062248</td>\n",
       "      <td>5062630</td>\n",
       "      <td>382</td>\n",
       "      <td>5062439</td>\n",
       "    </tr>\n",
       "    <tr>\n",
       "      <th>2</th>\n",
       "      <td>chr1</td>\n",
       "      <td>6907202</td>\n",
       "      <td>6907470</td>\n",
       "      <td>268</td>\n",
       "      <td>6907336</td>\n",
       "    </tr>\n",
       "    <tr>\n",
       "      <th>3</th>\n",
       "      <td>chr1</td>\n",
       "      <td>8019995</td>\n",
       "      <td>8020610</td>\n",
       "      <td>615</td>\n",
       "      <td>8020302</td>\n",
       "    </tr>\n",
       "    <tr>\n",
       "      <th>4</th>\n",
       "      <td>chr1</td>\n",
       "      <td>9165646</td>\n",
       "      <td>9165931</td>\n",
       "      <td>285</td>\n",
       "      <td>9165788</td>\n",
       "    </tr>\n",
       "    <tr>\n",
       "      <th>...</th>\n",
       "      <td>...</td>\n",
       "      <td>...</td>\n",
       "      <td>...</td>\n",
       "      <td>...</td>\n",
       "      <td>...</td>\n",
       "    </tr>\n",
       "    <tr>\n",
       "      <th>1949</th>\n",
       "      <td>chrX</td>\n",
       "      <td>166439843</td>\n",
       "      <td>166440321</td>\n",
       "      <td>478</td>\n",
       "      <td>166440082</td>\n",
       "    </tr>\n",
       "    <tr>\n",
       "      <th>1950</th>\n",
       "      <td>chrX</td>\n",
       "      <td>166441129</td>\n",
       "      <td>166441461</td>\n",
       "      <td>332</td>\n",
       "      <td>166441295</td>\n",
       "    </tr>\n",
       "    <tr>\n",
       "      <th>1951</th>\n",
       "      <td>chrX</td>\n",
       "      <td>166444078</td>\n",
       "      <td>166444501</td>\n",
       "      <td>423</td>\n",
       "      <td>166444289</td>\n",
       "    </tr>\n",
       "    <tr>\n",
       "      <th>1952</th>\n",
       "      <td>chrX</td>\n",
       "      <td>166527166</td>\n",
       "      <td>166527499</td>\n",
       "      <td>333</td>\n",
       "      <td>166527332</td>\n",
       "    </tr>\n",
       "    <tr>\n",
       "      <th>1953</th>\n",
       "      <td>chrX</td>\n",
       "      <td>166649921</td>\n",
       "      <td>166650252</td>\n",
       "      <td>331</td>\n",
       "      <td>166650086</td>\n",
       "    </tr>\n",
       "  </tbody>\n",
       "</table>\n",
       "<p>1928 rows × 5 columns</p>\n",
       "</div>"
      ],
      "text/plain": [
       "       chr      start        end  length     center\n",
       "0     chr1    4549822    4550312     490    4550067\n",
       "1     chr1    5062248    5062630     382    5062439\n",
       "2     chr1    6907202    6907470     268    6907336\n",
       "3     chr1    8019995    8020610     615    8020302\n",
       "4     chr1    9165646    9165931     285    9165788\n",
       "...    ...        ...        ...     ...        ...\n",
       "1949  chrX  166439843  166440321     478  166440082\n",
       "1950  chrX  166441129  166441461     332  166441295\n",
       "1951  chrX  166444078  166444501     423  166444289\n",
       "1952  chrX  166527166  166527499     333  166527332\n",
       "1953  chrX  166649921  166650252     331  166650086\n",
       "\n",
       "[1928 rows x 5 columns]"
      ]
     },
     "execution_count": 101,
     "metadata": {},
     "output_type": "execute_result"
    }
   ],
   "source": [
    "# compute length\n",
    "data['length'] = data.end - data.start\n",
    "data['center'] = (data.end + data.start) // 2\n",
    "data"
   ]
  },
  {
   "cell_type": "code",
   "execution_count": 102,
   "metadata": {},
   "outputs": [
    {
     "name": "stdout",
     "output_type": "stream",
     "text": [
      "length mean (median in fact): 352.0\n",
      "length std: 233.56105388190437\n",
      "percentile 0.99: 1297.2200000000003\n",
      "percentile 0.999: 2984.7030000000996\n",
      "percentile 0.9995: 3323.18750000022\n",
      "percentile 0.9999: 4383.037499999607\n"
     ]
    },
    {
     "data": {
      "text/plain": [
       "<matplotlib.legend.Legend at 0x7fbf88c44370>"
      ]
     },
     "execution_count": 102,
     "metadata": {},
     "output_type": "execute_result"
    },
    {
     "data": {
      "image/png": "[encoded data removed]",
      "text/plain": [
       "<Figure size 432x288 with 1 Axes>"
      ]
     },
     "metadata": {
      "needs_background": "light"
     },
     "output_type": "display_data"
    }
   ],
   "source": [
    "mean_len = data.length.median()\n",
    "std_len = data.length.std()\n",
    "print(f'length mean (median in fact): {mean_len}')\n",
    "print(f'length std: {std_len}')\n",
    "print(f'percentile 0.99: {data.length.quantile(0.99)}')\n",
    "print(f'percentile 0.999: {data.length.quantile(0.999)}')\n",
    "print(f'percentile 0.9995: {data.length.quantile(0.9995)}')\n",
    "print(f'percentile 0.9999: {data.length.quantile(0.9999)}')\n",
    "\n",
    "_ = plt.hist(data.length, range=(0, data.length.quantile(0.995)), bins=50, label='data')\n",
    "_ = plt.axvline(mean_len, label='mean (median)', linestyle='--', c='k')\n",
    "plt.legend()"
   ]
  },
  {
   "cell_type": "code",
   "execution_count": 112,
   "metadata": {},
   "outputs": [],
   "source": [
    "# Set region_length and bins count\n",
    "region_length = 1500\n",
    "bins_count = 100\n",
    "\n",
    "assert region_length % bins_count == 0, 'Wrong numbers, region_length % bins_count != 0'\n",
    "bp_per_bin = region_length // bins_count"
   ]
  },
  {
   "cell_type": "markdown",
   "metadata": {},
   "source": [
    "## Create and save final regions and global data parameters"
   ]
  },
  {
   "cell_type": "code",
   "execution_count": 114,
   "metadata": {},
   "outputs": [
    {
     "data": {
      "text/html": [
       "<div>\n",
       "<style scoped>\n",
       "    .dataframe tbody tr th:only-of-type {\n",
       "        vertical-align: middle;\n",
       "    }\n",
       "\n",
       "    .dataframe tbody tr th {\n",
       "        vertical-align: top;\n",
       "    }\n",
       "\n",
       "    .dataframe thead th {\n",
       "        text-align: right;\n",
       "    }\n",
       "</style>\n",
       "<table border=\"1\" class=\"dataframe\">\n",
       "  <thead>\n",
       "    <tr style=\"text-align: right;\">\n",
       "      <th></th>\n",
       "      <th>chr</th>\n",
       "      <th>start</th>\n",
       "      <th>end</th>\n",
       "    </tr>\n",
       "  </thead>\n",
       "  <tbody>\n",
       "    <tr>\n",
       "      <th>0</th>\n",
       "      <td>chr1</td>\n",
       "      <td>4549317</td>\n",
       "      <td>4550817</td>\n",
       "    </tr>\n",
       "    <tr>\n",
       "      <th>1</th>\n",
       "      <td>chr1</td>\n",
       "      <td>5061689</td>\n",
       "      <td>5063189</td>\n",
       "    </tr>\n",
       "    <tr>\n",
       "      <th>2</th>\n",
       "      <td>chr1</td>\n",
       "      <td>6906586</td>\n",
       "      <td>6908086</td>\n",
       "    </tr>\n",
       "    <tr>\n",
       "      <th>3</th>\n",
       "      <td>chr1</td>\n",
       "      <td>8019552</td>\n",
       "      <td>8021052</td>\n",
       "    </tr>\n",
       "    <tr>\n",
       "      <th>4</th>\n",
       "      <td>chr1</td>\n",
       "      <td>9165038</td>\n",
       "      <td>9166538</td>\n",
       "    </tr>\n",
       "    <tr>\n",
       "      <th>...</th>\n",
       "      <td>...</td>\n",
       "      <td>...</td>\n",
       "      <td>...</td>\n",
       "    </tr>\n",
       "    <tr>\n",
       "      <th>1949</th>\n",
       "      <td>chrX</td>\n",
       "      <td>166439332</td>\n",
       "      <td>166440832</td>\n",
       "    </tr>\n",
       "    <tr>\n",
       "      <th>1950</th>\n",
       "      <td>chrX</td>\n",
       "      <td>166440545</td>\n",
       "      <td>166442045</td>\n",
       "    </tr>\n",
       "    <tr>\n",
       "      <th>1951</th>\n",
       "      <td>chrX</td>\n",
       "      <td>166443539</td>\n",
       "      <td>166445039</td>\n",
       "    </tr>\n",
       "    <tr>\n",
       "      <th>1952</th>\n",
       "      <td>chrX</td>\n",
       "      <td>166526582</td>\n",
       "      <td>166528082</td>\n",
       "    </tr>\n",
       "    <tr>\n",
       "      <th>1953</th>\n",
       "      <td>chrX</td>\n",
       "      <td>166649336</td>\n",
       "      <td>166650836</td>\n",
       "    </tr>\n",
       "  </tbody>\n",
       "</table>\n",
       "<p>1928 rows × 3 columns</p>\n",
       "</div>"
      ],
      "text/plain": [
       "       chr      start        end\n",
       "0     chr1    4549317    4550817\n",
       "1     chr1    5061689    5063189\n",
       "2     chr1    6906586    6908086\n",
       "3     chr1    8019552    8021052\n",
       "4     chr1    9165038    9166538\n",
       "...    ...        ...        ...\n",
       "1949  chrX  166439332  166440832\n",
       "1950  chrX  166440545  166442045\n",
       "1951  chrX  166443539  166445039\n",
       "1952  chrX  166526582  166528082\n",
       "1953  chrX  166649336  166650836\n",
       "\n",
       "[1928 rows x 3 columns]"
      ]
     },
     "execution_count": 114,
     "metadata": {},
     "output_type": "execute_result"
    }
   ],
   "source": [
    "regions = pd.DataFrame()\n",
    "regions['chr'] = data.chr\n",
    "regions['start'] = data.center - region_length // 2\n",
    "regions['end'] = data.center + region_length // 2\n",
    "regions"
   ]
  },
  {
   "cell_type": "code",
   "execution_count": 118,
   "metadata": {},
   "outputs": [],
   "source": [
    "# Save regions\n",
    "regions.to_csv(f'{EXP_NAME}.regions-unified.bed', sep='\\t', header=None, index=None)"
   ]
  },
  {
   "cell_type": "code",
   "execution_count": 121,
   "metadata": {},
   "outputs": [],
   "source": [
    "# Save global data parameters\n",
    "json.dump(\n",
    "    {\n",
    "        'region_length': 1500,\n",
    "        'bins_count': 100,\n",
    "    },\n",
    "    open('global_data_params.json', 'w+'),\n",
    "    indent=4,\n",
    ")"
   ]
  },
  {
   "cell_type": "code",
   "execution_count": null,
   "metadata": {},
   "outputs": [],
   "source": []
  }
 ],
 "metadata": {
  "interpreter": {
   "hash": "524e0f39c38dd277617e747d9bbd48052ded7b806620e347c180d239a9b908b1"
  },
  "kernelspec": {
   "display_name": "Python 3.7.11 ('bioinf')",
   "language": "python",
   "name": "python3"
  },
  "language_info": {
   "codemirror_mode": {
    "name": "ipython",
    "version": 3
   },
   "file_extension": ".py",
   "mimetype": "text/x-python",
   "name": "python",
   "nbconvert_exporter": "python",
   "pygments_lexer": "ipython3",
   "version": "3.7.11"
  },
  "orig_nbformat": 4
 },
 "nbformat": 4,
 "nbformat_minor": 2
}
