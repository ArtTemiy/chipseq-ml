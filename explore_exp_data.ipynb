{
 "cells": [
  {
   "cell_type": "code",
   "execution_count": 4,
   "metadata": {},
   "outputs": [],
   "source": [
    "import numpy as np\n",
    "import matplotlib.pyplot as plt\n",
    "import pandas as pd\n",
    "\n",
    "import json"
   ]
  },
  {
   "cell_type": "markdown",
   "metadata": {},
   "source": [
    "## Load data"
   ]
  },
  {
   "cell_type": "code",
   "execution_count": 5,
   "metadata": {},
   "outputs": [],
   "source": [
    "def read_bed(file):\n",
    "    return pd.read_csv(file, sep='\\t', header=None)"
   ]
  },
  {
   "cell_type": "code",
   "execution_count": 6,
   "metadata": {},
   "outputs": [],
   "source": [
    "EXP_NAME = 'curax_14h_UNI_mm9'"
   ]
  },
  {
   "cell_type": "code",
   "execution_count": 7,
   "metadata": {},
   "outputs": [
    {
     "data": {
      "text/html": [
       "<div>\n",
       "<style scoped>\n",
       "    .dataframe tbody tr th:only-of-type {\n",
       "        vertical-align: middle;\n",
       "    }\n",
       "\n",
       "    .dataframe tbody tr th {\n",
       "        vertical-align: top;\n",
       "    }\n",
       "\n",
       "    .dataframe thead th {\n",
       "        text-align: right;\n",
       "    }\n",
       "</style>\n",
       "<table border=\"1\" class=\"dataframe\">\n",
       "  <thead>\n",
       "    <tr style=\"text-align: right;\">\n",
       "      <th></th>\n",
       "      <th>chr</th>\n",
       "      <th>start</th>\n",
       "      <th>end</th>\n",
       "    </tr>\n",
       "  </thead>\n",
       "  <tbody>\n",
       "    <tr>\n",
       "      <th>0</th>\n",
       "      <td>chr1</td>\n",
       "      <td>4549822</td>\n",
       "      <td>4550312</td>\n",
       "    </tr>\n",
       "    <tr>\n",
       "      <th>1</th>\n",
       "      <td>chr1</td>\n",
       "      <td>5062248</td>\n",
       "      <td>5062630</td>\n",
       "    </tr>\n",
       "    <tr>\n",
       "      <th>2</th>\n",
       "      <td>chr1</td>\n",
       "      <td>6907202</td>\n",
       "      <td>6907470</td>\n",
       "    </tr>\n",
       "    <tr>\n",
       "      <th>3</th>\n",
       "      <td>chr1</td>\n",
       "      <td>8019995</td>\n",
       "      <td>8020610</td>\n",
       "    </tr>\n",
       "    <tr>\n",
       "      <th>4</th>\n",
       "      <td>chr1</td>\n",
       "      <td>9165646</td>\n",
       "      <td>9165931</td>\n",
       "    </tr>\n",
       "    <tr>\n",
       "      <th>...</th>\n",
       "      <td>...</td>\n",
       "      <td>...</td>\n",
       "      <td>...</td>\n",
       "    </tr>\n",
       "    <tr>\n",
       "      <th>1956</th>\n",
       "      <td>chrY_random</td>\n",
       "      <td>5277945</td>\n",
       "      <td>5278260</td>\n",
       "    </tr>\n",
       "    <tr>\n",
       "      <th>1957</th>\n",
       "      <td>chrY_random</td>\n",
       "      <td>11777722</td>\n",
       "      <td>11778059</td>\n",
       "    </tr>\n",
       "    <tr>\n",
       "      <th>1958</th>\n",
       "      <td>chrY_random</td>\n",
       "      <td>19640868</td>\n",
       "      <td>19641420</td>\n",
       "    </tr>\n",
       "    <tr>\n",
       "      <th>1959</th>\n",
       "      <td>chrY_random</td>\n",
       "      <td>28369780</td>\n",
       "      <td>28370118</td>\n",
       "    </tr>\n",
       "    <tr>\n",
       "      <th>1960</th>\n",
       "      <td>chrY_random</td>\n",
       "      <td>48300886</td>\n",
       "      <td>48301241</td>\n",
       "    </tr>\n",
       "  </tbody>\n",
       "</table>\n",
       "<p>1961 rows × 3 columns</p>\n",
       "</div>"
      ],
      "text/plain": [
       "              chr     start       end\n",
       "0            chr1   4549822   4550312\n",
       "1            chr1   5062248   5062630\n",
       "2            chr1   6907202   6907470\n",
       "3            chr1   8019995   8020610\n",
       "4            chr1   9165646   9165931\n",
       "...           ...       ...       ...\n",
       "1956  chrY_random   5277945   5278260\n",
       "1957  chrY_random  11777722  11778059\n",
       "1958  chrY_random  19640868  19641420\n",
       "1959  chrY_random  28369780  28370118\n",
       "1960  chrY_random  48300886  48301241\n",
       "\n",
       "[1961 rows x 3 columns]"
      ]
     },
     "execution_count": 7,
     "metadata": {},
     "output_type": "execute_result"
    }
   ],
   "source": [
    "data = read_bed(f'{EXP_NAME}.bed')\n",
    "data.columns = ['chr', 'start', 'end']\n",
    "\n",
    "data"
   ]
  },
  {
   "cell_type": "markdown",
   "metadata": {},
   "source": [
    "## Filter out chromosomes with low data\n",
    "Нам не нужны данные хромосом, где мало данных, типа chrX_random, поэтому их мы убираем"
   ]
  },
  {
   "cell_type": "code",
   "execution_count": 8,
   "metadata": {},
   "outputs": [
    {
     "name": "stdout",
     "output_type": "stream",
     "text": [
      "[('chrX', 192), ('chr6', 139), ('chr1', 133), ('chr3', 125), ('chr4', 118), ('chr7', 116), ('chr5', 114), ('chr2', 108), ('chr8', 102), ('chr10', 88), ('chr9', 86), ('chr17', 82), ('chr14', 80), ('chr13', 75), ('chr16', 73), ('chr11', 71), ('chr12', 70), ('chr15', 65), ('chr18', 62), ('chr19', 29), ('chrUn_random', 19), ('chrY_random', 6), ('chr8_random', 3), ('chr1_random', 2), ('chr9_random', 1), ('chrM', 1), ('chrY', 1)]\n"
     ]
    }
   ],
   "source": [
    "print(list(data.chr.value_counts().items()))"
   ]
  },
  {
   "cell_type": "code",
   "execution_count": 9,
   "metadata": {},
   "outputs": [],
   "source": [
    "# Set threshold\n",
    "threshold = 20\n",
    "\n",
    "filtered_chroms = list(data.chr.value_counts()[data.chr.value_counts() > threshold].index)\n",
    "data = data[sum(list((data.chr == chromosome) for chromosome in filtered_chroms)) == 1]"
   ]
  },
  {
   "cell_type": "markdown",
   "metadata": {},
   "source": [
    "## Regions length statistics"
   ]
  },
  {
   "cell_type": "code",
   "execution_count": 10,
   "metadata": {},
   "outputs": [
    {
     "name": "stderr",
     "output_type": "stream",
     "text": [
      "/Users/art-temiy/opt/anaconda3/envs/bioinf/lib/python3.7/site-packages/ipykernel_launcher.py:2: SettingWithCopyWarning: \n",
      "A value is trying to be set on a copy of a slice from a DataFrame.\n",
      "Try using .loc[row_indexer,col_indexer] = value instead\n",
      "\n",
      "See the caveats in the documentation: https://pandas.pydata.org/pandas-docs/stable/user_guide/indexing.html#returning-a-view-versus-a-copy\n",
      "  \n",
      "/Users/art-temiy/opt/anaconda3/envs/bioinf/lib/python3.7/site-packages/ipykernel_launcher.py:3: SettingWithCopyWarning: \n",
      "A value is trying to be set on a copy of a slice from a DataFrame.\n",
      "Try using .loc[row_indexer,col_indexer] = value instead\n",
      "\n",
      "See the caveats in the documentation: https://pandas.pydata.org/pandas-docs/stable/user_guide/indexing.html#returning-a-view-versus-a-copy\n",
      "  This is separate from the ipykernel package so we can avoid doing imports until\n"
     ]
    },
    {
     "data": {
      "text/html": [
       "<div>\n",
       "<style scoped>\n",
       "    .dataframe tbody tr th:only-of-type {\n",
       "        vertical-align: middle;\n",
       "    }\n",
       "\n",
       "    .dataframe tbody tr th {\n",
       "        vertical-align: top;\n",
       "    }\n",
       "\n",
       "    .dataframe thead th {\n",
       "        text-align: right;\n",
       "    }\n",
       "</style>\n",
       "<table border=\"1\" class=\"dataframe\">\n",
       "  <thead>\n",
       "    <tr style=\"text-align: right;\">\n",
       "      <th></th>\n",
       "      <th>chr</th>\n",
       "      <th>start</th>\n",
       "      <th>end</th>\n",
       "      <th>length</th>\n",
       "      <th>center</th>\n",
       "    </tr>\n",
       "  </thead>\n",
       "  <tbody>\n",
       "    <tr>\n",
       "      <th>0</th>\n",
       "      <td>chr1</td>\n",
       "      <td>4549822</td>\n",
       "      <td>4550312</td>\n",
       "      <td>490</td>\n",
       "      <td>4550067</td>\n",
       "    </tr>\n",
       "    <tr>\n",
       "      <th>1</th>\n",
       "      <td>chr1</td>\n",
       "      <td>5062248</td>\n",
       "      <td>5062630</td>\n",
       "      <td>382</td>\n",
       "      <td>5062439</td>\n",
       "    </tr>\n",
       "    <tr>\n",
       "      <th>2</th>\n",
       "      <td>chr1</td>\n",
       "      <td>6907202</td>\n",
       "      <td>6907470</td>\n",
       "      <td>268</td>\n",
       "      <td>6907336</td>\n",
       "    </tr>\n",
       "    <tr>\n",
       "      <th>3</th>\n",
       "      <td>chr1</td>\n",
       "      <td>8019995</td>\n",
       "      <td>8020610</td>\n",
       "      <td>615</td>\n",
       "      <td>8020302</td>\n",
       "    </tr>\n",
       "    <tr>\n",
       "      <th>4</th>\n",
       "      <td>chr1</td>\n",
       "      <td>9165646</td>\n",
       "      <td>9165931</td>\n",
       "      <td>285</td>\n",
       "      <td>9165788</td>\n",
       "    </tr>\n",
       "    <tr>\n",
       "      <th>...</th>\n",
       "      <td>...</td>\n",
       "      <td>...</td>\n",
       "      <td>...</td>\n",
       "      <td>...</td>\n",
       "      <td>...</td>\n",
       "    </tr>\n",
       "    <tr>\n",
       "      <th>1949</th>\n",
       "      <td>chrX</td>\n",
       "      <td>166439843</td>\n",
       "      <td>166440321</td>\n",
       "      <td>478</td>\n",
       "      <td>166440082</td>\n",
       "    </tr>\n",
       "    <tr>\n",
       "      <th>1950</th>\n",
       "      <td>chrX</td>\n",
       "      <td>166441129</td>\n",
       "      <td>166441461</td>\n",
       "      <td>332</td>\n",
       "      <td>166441295</td>\n",
       "    </tr>\n",
       "    <tr>\n",
       "      <th>1951</th>\n",
       "      <td>chrX</td>\n",
       "      <td>166444078</td>\n",
       "      <td>166444501</td>\n",
       "      <td>423</td>\n",
       "      <td>166444289</td>\n",
       "    </tr>\n",
       "    <tr>\n",
       "      <th>1952</th>\n",
       "      <td>chrX</td>\n",
       "      <td>166527166</td>\n",
       "      <td>166527499</td>\n",
       "      <td>333</td>\n",
       "      <td>166527332</td>\n",
       "    </tr>\n",
       "    <tr>\n",
       "      <th>1953</th>\n",
       "      <td>chrX</td>\n",
       "      <td>166649921</td>\n",
       "      <td>166650252</td>\n",
       "      <td>331</td>\n",
       "      <td>166650086</td>\n",
       "    </tr>\n",
       "  </tbody>\n",
       "</table>\n",
       "<p>1928 rows × 5 columns</p>\n",
       "</div>"
      ],
      "text/plain": [
       "       chr      start        end  length     center\n",
       "0     chr1    4549822    4550312     490    4550067\n",
       "1     chr1    5062248    5062630     382    5062439\n",
       "2     chr1    6907202    6907470     268    6907336\n",
       "3     chr1    8019995    8020610     615    8020302\n",
       "4     chr1    9165646    9165931     285    9165788\n",
       "...    ...        ...        ...     ...        ...\n",
       "1949  chrX  166439843  166440321     478  166440082\n",
       "1950  chrX  166441129  166441461     332  166441295\n",
       "1951  chrX  166444078  166444501     423  166444289\n",
       "1952  chrX  166527166  166527499     333  166527332\n",
       "1953  chrX  166649921  166650252     331  166650086\n",
       "\n",
       "[1928 rows x 5 columns]"
      ]
     },
     "execution_count": 10,
     "metadata": {},
     "output_type": "execute_result"
    }
   ],
   "source": [
    "# compute length\n",
    "data['length'] = data.end - data.start\n",
    "data['center'] = (data.end + data.start) // 2\n",
    "data"
   ]
  },
  {
   "cell_type": "code",
   "execution_count": 11,
   "metadata": {},
   "outputs": [
    {
     "name": "stdout",
     "output_type": "stream",
     "text": [
      "length mean (median in fact): 352.0\n",
      "length std: 233.56105388190437\n",
      "percentile 0.99: 1297.2200000000003\n",
      "percentile 0.999: 2984.7030000000996\n",
      "percentile 0.9995: 3323.18750000022\n",
      "percentile 0.9999: 4383.037499999607\n"
     ]
    },
    {
     "data": {
      "text/plain": [
       "<matplotlib.legend.Legend at 0x7f9810960d50>"
      ]
     },
     "execution_count": 11,
     "metadata": {},
     "output_type": "execute_result"
    },
    {
     "data": {
      "image/png": "[encoded data removed]",
      "text/plain": [
       "<Figure size 432x288 with 1 Axes>"
      ]
     },
     "metadata": {
      "needs_background": "light"
     },
     "output_type": "display_data"
    }
   ],
   "source": [
    "mean_len = data.length.median()\n",
    "std_len = data.length.std()\n",
    "print(f'length mean (median in fact): {mean_len}')\n",
    "print(f'length std: {std_len}')\n",
    "print(f'percentile 0.99: {data.length.quantile(0.99)}')\n",
    "print(f'percentile 0.999: {data.length.quantile(0.999)}')\n",
    "print(f'percentile 0.9995: {data.length.quantile(0.9995)}')\n",
    "print(f'percentile 0.9999: {data.length.quantile(0.9999)}')\n",
    "\n",
    "_ = plt.hist(data.length, range=(0, data.length.quantile(0.995)), bins=50, label='data')\n",
    "_ = plt.axvline(mean_len, label='mean (median)', linestyle='--', c='k')\n",
    "plt.legend()"
   ]
  },
  {
   "cell_type": "markdown",
   "metadata": {},
   "source": [
    "## Distance between regions"
   ]
  },
  {
   "cell_type": "code",
   "execution_count": 12,
   "metadata": {},
   "outputs": [],
   "source": [
    "data_by_chroms = {\n",
    "    chr: data[data.chr == chr].sort_values(by='start')\n",
    "    for chr in data.chr.value_counts().index\n",
    "}"
   ]
  },
  {
   "cell_type": "code",
   "execution_count": 13,
   "metadata": {},
   "outputs": [
    {
     "name": "stdout",
     "output_type": "stream",
     "text": [
      "chrome: chrX ... 370\n",
      "chrome: chr6 ... 127\n",
      "chrome: chr1 ... 314\n",
      "chrome: chr3 ... 277\n",
      "chrome: chr4 ... 386\n",
      "chrome: chr7 ... 857\n",
      "chrome: chr5 ... 455\n",
      "chrome: chr2 ... 241\n",
      "chrome: chr8 ... 278\n",
      "chrome: chr10 ... 252\n",
      "chrome: chr9 ... 269\n",
      "chrome: chr17 ... 396\n",
      "chrome: chr14 ... 1008\n",
      "chrome: chr13 ... 260\n",
      "chrome: chr16 ... 329\n",
      "chrome: chr11 ... 2428\n",
      "chrome: chr12 ... 1400\n",
      "chrome: chr15 ... 329\n",
      "chrome: chr18 ... 735\n",
      "chrome: chr19 ... 1975\n"
     ]
    },
    {
     "data": {
      "image/png": "[encoded data removed]",
      "text/plain": [
       "<Figure size 432x288 with 1 Axes>"
      ]
     },
     "metadata": {
      "needs_background": "light"
     },
     "output_type": "display_data"
    }
   ],
   "source": [
    "all_min_gaps = []\n",
    "for chr, c_data in data_by_chroms.items():\n",
    "    print(f'chrome: {chr}', end=' ... ')\n",
    "    if (c_data.shape[0] < 2):\n",
    "        print('***Skip***')\n",
    "        continue\n",
    "    gaps = np.array(c_data.start[1:]) - np.array(c_data.end[:-1])\n",
    "    minimum_gap = gaps.min()\n",
    "    all_min_gaps.append(minimum_gap)\n",
    "    print(minimum_gap)\n",
    "\n",
    "plt.hist(\n",
    "    all_min_gaps,\n",
    "    bins = len(all_min_gaps)\n",
    ")\n",
    "plt.show()\n",
    "    "
   ]
  },
  {
   "cell_type": "code",
   "execution_count": 14,
   "metadata": {},
   "outputs": [
    {
     "name": "stdout",
     "output_type": "stream",
     "text": [
      "[   2428   15545   20881   33176   44755   52381   57420   99550  126399\n",
      "  130854  159239  222239  230386  247334  250270  269652  320294  360538\n",
      "  386314  398751  464042  495780  496205  512385  534220  545017  607589\n",
      "  610787  663554  846629  865850  905649  956078 1101943 1140315 1168385\n",
      " 1328025 1340164 1451162 1624196 1729164 1789555 1825214 1866891 1869155\n",
      " 1970625 1973444 2025947 2046752 2080286 2106912 2174519 2233528 2259509\n",
      " 2748992 2773497 2907274 2951275 3032549 3352781 3462158 3757708 3840628\n",
      " 4226017 4485125 4615572 4985920 5051490 6536880 8824738]\n"
     ]
    },
    {
     "data": {
      "text/plain": [
       "(2428.0, 38386.55, 8824738.0)"
      ]
     },
     "execution_count": 14,
     "metadata": {},
     "output_type": "execute_result"
    }
   ],
   "source": [
    "d = data_by_chroms['chr11']\n",
    "g = (np.array(d.start[1:]) - np.array(d.end[:-1]))\n",
    "print(np.sort(g))\n",
    "np.percentile(g, 0), np.percentile(g, 5), np.percentile(g, 100), "
   ]
  },
  {
   "cell_type": "markdown",
   "metadata": {},
   "source": [
    "## Settings global data params according to values above"
   ]
  },
  {
   "cell_type": "code",
   "execution_count": 15,
   "metadata": {},
   "outputs": [],
   "source": [
    "# Set region_length and bins count\n",
    "region_length = 1500\n",
    "bins_count = 100\n",
    "\n",
    "assert region_length % bins_count == 0, 'Wrong numbers, region_length % bins_count != 0'\n",
    "bps_per_bin = region_length // bins_count"
   ]
  },
  {
   "cell_type": "markdown",
   "metadata": {},
   "source": [
    "## Create and save final regions (discretized) and global data parameters"
   ]
  },
  {
   "cell_type": "code",
   "execution_count": 16,
   "metadata": {},
   "outputs": [
    {
     "data": {
      "text/html": [
       "<div>\n",
       "<style scoped>\n",
       "    .dataframe tbody tr th:only-of-type {\n",
       "        vertical-align: middle;\n",
       "    }\n",
       "\n",
       "    .dataframe tbody tr th {\n",
       "        vertical-align: top;\n",
       "    }\n",
       "\n",
       "    .dataframe thead th {\n",
       "        text-align: right;\n",
       "    }\n",
       "</style>\n",
       "<table border=\"1\" class=\"dataframe\">\n",
       "  <thead>\n",
       "    <tr style=\"text-align: right;\">\n",
       "      <th></th>\n",
       "      <th>chr</th>\n",
       "      <th>start</th>\n",
       "      <th>end</th>\n",
       "    </tr>\n",
       "  </thead>\n",
       "  <tbody>\n",
       "    <tr>\n",
       "      <th>0</th>\n",
       "      <td>chr1</td>\n",
       "      <td>4549317</td>\n",
       "      <td>4550817</td>\n",
       "    </tr>\n",
       "    <tr>\n",
       "      <th>1</th>\n",
       "      <td>chr1</td>\n",
       "      <td>5061689</td>\n",
       "      <td>5063189</td>\n",
       "    </tr>\n",
       "    <tr>\n",
       "      <th>2</th>\n",
       "      <td>chr1</td>\n",
       "      <td>6906586</td>\n",
       "      <td>6908086</td>\n",
       "    </tr>\n",
       "    <tr>\n",
       "      <th>3</th>\n",
       "      <td>chr1</td>\n",
       "      <td>8019552</td>\n",
       "      <td>8021052</td>\n",
       "    </tr>\n",
       "    <tr>\n",
       "      <th>4</th>\n",
       "      <td>chr1</td>\n",
       "      <td>9165038</td>\n",
       "      <td>9166538</td>\n",
       "    </tr>\n",
       "    <tr>\n",
       "      <th>...</th>\n",
       "      <td>...</td>\n",
       "      <td>...</td>\n",
       "      <td>...</td>\n",
       "    </tr>\n",
       "    <tr>\n",
       "      <th>1949</th>\n",
       "      <td>chrX</td>\n",
       "      <td>166439332</td>\n",
       "      <td>166440832</td>\n",
       "    </tr>\n",
       "    <tr>\n",
       "      <th>1950</th>\n",
       "      <td>chrX</td>\n",
       "      <td>166440545</td>\n",
       "      <td>166442045</td>\n",
       "    </tr>\n",
       "    <tr>\n",
       "      <th>1951</th>\n",
       "      <td>chrX</td>\n",
       "      <td>166443539</td>\n",
       "      <td>166445039</td>\n",
       "    </tr>\n",
       "    <tr>\n",
       "      <th>1952</th>\n",
       "      <td>chrX</td>\n",
       "      <td>166526582</td>\n",
       "      <td>166528082</td>\n",
       "    </tr>\n",
       "    <tr>\n",
       "      <th>1953</th>\n",
       "      <td>chrX</td>\n",
       "      <td>166649336</td>\n",
       "      <td>166650836</td>\n",
       "    </tr>\n",
       "  </tbody>\n",
       "</table>\n",
       "<p>1928 rows × 3 columns</p>\n",
       "</div>"
      ],
      "text/plain": [
       "       chr      start        end\n",
       "0     chr1    4549317    4550817\n",
       "1     chr1    5061689    5063189\n",
       "2     chr1    6906586    6908086\n",
       "3     chr1    8019552    8021052\n",
       "4     chr1    9165038    9166538\n",
       "...    ...        ...        ...\n",
       "1949  chrX  166439332  166440832\n",
       "1950  chrX  166440545  166442045\n",
       "1951  chrX  166443539  166445039\n",
       "1952  chrX  166526582  166528082\n",
       "1953  chrX  166649336  166650836\n",
       "\n",
       "[1928 rows x 3 columns]"
      ]
     },
     "execution_count": 16,
     "metadata": {},
     "output_type": "execute_result"
    }
   ],
   "source": [
    "# Create regions\n",
    "regions = pd.DataFrame()\n",
    "regions['chr'] = data.chr\n",
    "regions['start'] = data.center - region_length // 2\n",
    "regions['end'] = data.center + region_length // 2\n",
    "regions"
   ]
  },
  {
   "cell_type": "code",
   "execution_count": 17,
   "metadata": {},
   "outputs": [],
   "source": [
    "# discretize\n",
    "regions.start = regions.start // bps_per_bin * bps_per_bin\n",
    "regions.end = regions.end // bps_per_bin * bps_per_bin"
   ]
  },
  {
   "cell_type": "code",
   "execution_count": 18,
   "metadata": {},
   "outputs": [],
   "source": [
    "# Save regions\n",
    "regions.to_csv(f'{EXP_NAME}.regions-unified.bed', sep='\\t', header=None, index=None)"
   ]
  },
  {
   "cell_type": "code",
   "execution_count": 19,
   "metadata": {},
   "outputs": [],
   "source": [
    "# Save global data parameters\n",
    "json.dump(\n",
    "    {\n",
    "        'region_length': 1500,\n",
    "        'bins_count': 100,\n",
    "    },\n",
    "    open('global_data_params.json', 'w+'),\n",
    "    indent=4,\n",
    ")"
   ]
  },
  {
   "cell_type": "code",
   "execution_count": null,
   "metadata": {},
   "outputs": [],
   "source": []
  }
 ],
 "metadata": {
  "interpreter": {
   "hash": "524e0f39c38dd277617e747d9bbd48052ded7b806620e347c180d239a9b908b1"
  },
  "kernelspec": {
   "display_name": "Python 3.7.11 ('bioinf')",
   "language": "python",
   "name": "python3"
  },
  "language_info": {
   "codemirror_mode": {
    "name": "ipython",
    "version": 3
   },
   "file_extension": ".py",
   "mimetype": "text/x-python",
   "name": "python",
   "nbconvert_exporter": "python",
   "pygments_lexer": "ipython3",
   "version": "3.7.11"
  },
  "orig_nbformat": 4
 },
 "nbformat": 4,
 "nbformat_minor": 2
}
