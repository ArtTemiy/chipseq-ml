{
 "cells": [
  {
   "cell_type": "code",
   "execution_count": 1,
   "metadata": {},
   "outputs": [],
   "source": [
    "import os\n",
    "import numpy as np\n",
    "import pandas as pd\n",
    "import json"
   ]
  },
  {
   "cell_type": "code",
   "execution_count": 2,
   "metadata": {},
   "outputs": [],
   "source": [
    "global_params = json.load(open('./global_data_params.json', 'r'))\n",
    "region_length = global_params['region_length']\n",
    "bins_count = global_params['bins_count']\n",
    "bps_per_bin = region_length // bins_count"
   ]
  },
  {
   "cell_type": "code",
   "execution_count": 4,
   "metadata": {},
   "outputs": [],
   "source": [
    "FEATURE_DATA_PATH = './feature_data'"
   ]
  },
  {
   "cell_type": "code",
   "execution_count": 5,
   "metadata": {},
   "outputs": [
    {
     "data": {
      "text/plain": [
       "((1961, 1144982), 1146943)"
      ]
     },
     "execution_count": 5,
     "metadata": {},
     "output_type": "execute_result"
    }
   ],
   "source": [
    "positive_files = sorted(os.listdir(os.path.join(FEATURE_DATA_PATH, 'positive')))\n",
    "negative_files = sorted(os.listdir(os.path.join(FEATURE_DATA_PATH, 'negative')))\n",
    "assert set(filename.split('.')[0] for filename in positive_files) == set(filename.split('.')[0] for filename in negative_files)\n",
    "\n",
    "features_size = (\n",
    "    pd.read_csv(os.path.join(FEATURE_DATA_PATH, 'positive', positive_files[0])).shape[0],\n",
    "    pd.read_csv(os.path.join(FEATURE_DATA_PATH, 'negative', positive_files[0])).shape[0])\n",
    "dataset_size = features_size[0] + features_size[1]\n",
    "features_size, dataset_size"
   ]
  },
  {
   "cell_type": "code",
   "execution_count": null,
   "metadata": {},
   "outputs": [],
   "source": []
  }
 ],
 "metadata": {
  "interpreter": {
   "hash": "524e0f39c38dd277617e747d9bbd48052ded7b806620e347c180d239a9b908b1"
  },
  "kernelspec": {
   "display_name": "Python 3.7.11 ('bioinf')",
   "language": "python",
   "name": "python3"
  },
  "language_info": {
   "codemirror_mode": {
    "name": "ipython",
    "version": 3
   },
   "file_extension": ".py",
   "mimetype": "text/x-python",
   "name": "python",
   "nbconvert_exporter": "python",
   "pygments_lexer": "ipython3",
   "version": "3.7.11"
  },
  "orig_nbformat": 4
 },
 "nbformat": 4,
 "nbformat_minor": 2
}
