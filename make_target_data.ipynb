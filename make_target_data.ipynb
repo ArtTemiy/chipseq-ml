{
 "cells": [
  {
   "cell_type": "code",
   "execution_count": 12,
   "metadata": {},
   "outputs": [],
   "source": [
    "import pandas as pd\n",
    "import numpy as np\n",
    "import json"
   ]
  },
  {
   "cell_type": "code",
   "execution_count": 13,
   "metadata": {},
   "outputs": [],
   "source": [
    "def read_bed(file):\n",
    "    return pd.read_csv(file, sep='\\t', header=None)"
   ]
  },
  {
   "cell_type": "code",
   "execution_count": 14,
   "metadata": {},
   "outputs": [],
   "source": [
    "EXP_NAME = 'curax_14h_UNI_mm9'\n",
    "OUT_PATH = 'experiment_data'"
   ]
  },
  {
   "cell_type": "code",
   "execution_count": 15,
   "metadata": {},
   "outputs": [],
   "source": [
    "data = read_bed(f'{EXP_NAME}.bed')\n",
    "data.columns = ['chr', 'start', 'end']\n",
    "data['center'] = (data.end + data.start) // 2"
   ]
  },
  {
   "cell_type": "code",
   "execution_count": 16,
   "metadata": {},
   "outputs": [
    {
     "data": {
      "text/plain": [
       "{'region_length': 1500, 'bins_count': 100}"
      ]
     },
     "execution_count": 16,
     "metadata": {},
     "output_type": "execute_result"
    }
   ],
   "source": [
    "global_params = json.load(open('./global_data_params.json', 'r'))\n",
    "global_params"
   ]
  },
  {
   "cell_type": "markdown",
   "metadata": {},
   "source": [
    "## Create and save final regions (discretized) and global data parameters"
   ]
  },
  {
   "cell_type": "markdown",
   "metadata": {},
   "source": [
    "#### Positive class"
   ]
  },
  {
   "cell_type": "code",
   "execution_count": 17,
   "metadata": {},
   "outputs": [],
   "source": [
    "region_length = global_params['region_length']\n",
    "bins_count = global_params['bins_count']\n",
    "bps_per_bin = region_length // bins_count"
   ]
  },
  {
   "cell_type": "code",
   "execution_count": 18,
   "metadata": {},
   "outputs": [],
   "source": [
    "regions = pd.DataFrame()\n",
    "regions['chr'] = data.chr\n",
    "regions['start'] = data.center - region_length // 2\n",
    "regions['end'] = data.center + region_length // 2"
   ]
  },
  {
   "cell_type": "code",
   "execution_count": 19,
   "metadata": {},
   "outputs": [],
   "source": [
    "regions_discretized = regions.copy()\n",
    "regions_discretized.start = regions_discretized.start // bps_per_bin * bps_per_bin\n",
    "regions_discretized.end = regions_discretized.end // bps_per_bin * bps_per_bin"
   ]
  },
  {
   "cell_type": "code",
   "execution_count": 20,
   "metadata": {},
   "outputs": [],
   "source": [
    "regions.to_csv(f'{OUT_PATH}/{EXP_NAME}.regions.bed', sep='\\t', header=None, index=None)\n",
    "regions_discretized.to_csv(f'{OUT_PATH}/{EXP_NAME}.regions.discrete.bed', sep='\\t', header=None, index=None)"
   ]
  },
  {
   "cell_type": "code",
   "execution_count": 21,
   "metadata": {},
   "outputs": [],
   "source": [
    "# sort files\n",
    "!bedtools sort -i {OUT_PATH}/{EXP_NAME}.regions.bed > {OUT_PATH}/{EXP_NAME}.regions.sorted.bed\n",
    "!bedtools sort -i {OUT_PATH}/{EXP_NAME}.regions.discrete.bed > {OUT_PATH}/{EXP_NAME}.regions.discrete.sorted.bed"
   ]
  },
  {
   "cell_type": "markdown",
   "metadata": {},
   "source": [
    "#### Negative"
   ]
  },
  {
   "cell_type": "code",
   "execution_count": 22,
   "metadata": {},
   "outputs": [
    {
     "name": "stdout",
     "output_type": "stream",
     "text": [
      "positive regions: 1961\n",
      "negative regions: 1144982\n"
     ]
    }
   ],
   "source": [
    "random_regions = pd.DataFrame([], columns=['chr', 'start', 'end'])\n",
    "\n",
    "min_pad = region_length // 2\n",
    "\n",
    "for chrm in data.chr.unique():\n",
    "    all_for_chr = data[data.chr == chrm]\n",
    "    free_regions = np.array([\n",
    "        np.array(all_for_chr.end[:-1]) + 1,\n",
    "        np.array(all_for_chr.start[1:]) - 1\n",
    "    ]).T\n",
    "\n",
    "    # check\n",
    "    for i in range(free_regions.shape[0]):\n",
    "        assert free_regions[i][0] < free_regions[i][1]\n",
    "        if i > 0:\n",
    "            assert free_regions[i - 1][1] < free_regions[i][0]\n",
    "    \n",
    "    #generate regions\n",
    "    for region in free_regions:\n",
    "        length = region[1] - region[0]\n",
    "        num_of_regions = (length) // (region_length + min_pad)\n",
    "        if num_of_regions == 0:\n",
    "            continue\n",
    "        pad = (length - num_of_regions * region_length) / num_of_regions\n",
    "        middles = np.array(\n",
    "            region[0] + (length / num_of_regions) / 2 + np.array(range(num_of_regions)) * (length / num_of_regions),\n",
    "            dtype=np.int64\n",
    "        )\n",
    "        \n",
    "        random_regions = random_regions.append(pd.DataFrame(\n",
    "            [\n",
    "                [chrm, middle - region_length // 2, middle + region_length // 2]\n",
    "                for middle in middles\n",
    "            ],\n",
    "            columns=random_regions.columns\n",
    "        ))\n",
    "print(f'positive regions: {data.shape[0]}')\n",
    "print(f'negative regions: {random_regions.shape[0]}')"
   ]
  },
  {
   "cell_type": "code",
   "execution_count": 23,
   "metadata": {},
   "outputs": [],
   "source": [
    "random_regions_discretized = random_regions.copy()\n",
    "random_regions_discretized.start = random_regions_discretized.start // bps_per_bin * bps_per_bin\n",
    "random_regions_discretized.end = random_regions_discretized.end // bps_per_bin * bps_per_bin"
   ]
  },
  {
   "cell_type": "code",
   "execution_count": 26,
   "metadata": {},
   "outputs": [],
   "source": [
    "random_regions.to_csv(f'{OUT_PATH}/{EXP_NAME}-random.regions.bed', sep='\\t', header=None, index=None)\n",
    "random_regions_discretized.to_csv(f'{OUT_PATH}/{EXP_NAME}-random.regions.discrete.bed', sep='\\t', header=None, index=None)"
   ]
  },
  {
   "cell_type": "code",
   "execution_count": 27,
   "metadata": {},
   "outputs": [],
   "source": [
    "# sort files\n",
    "!bedtools sort -i {OUT_PATH}/{EXP_NAME}-random.regions.bed > {OUT_PATH}/{EXP_NAME}-random.regions.sorted.bed\n",
    "!bedtools sort -i {OUT_PATH}/{EXP_NAME}-random.regions.discrete.bed > {OUT_PATH}/{EXP_NAME}-random.regions.discrete.sorted.bed"
   ]
  },
  {
   "cell_type": "code",
   "execution_count": 35,
   "metadata": {},
   "outputs": [
    {
     "data": {
      "text/plain": [
       "((192, 3), (71817, 3))"
      ]
     },
     "execution_count": 35,
     "metadata": {},
     "output_type": "execute_result"
    }
   ],
   "source": [
    "regions[regions.chr == 'chrX'].shape, random_regions[random_regions.chr == 'chrX'].shape,"
   ]
  },
  {
   "cell_type": "code",
   "execution_count": null,
   "metadata": {},
   "outputs": [],
   "source": []
  }
 ],
 "metadata": {
  "interpreter": {
   "hash": "524e0f39c38dd277617e747d9bbd48052ded7b806620e347c180d239a9b908b1"
  },
  "kernelspec": {
   "display_name": "Python 3.7.11 ('bioinf')",
   "language": "python",
   "name": "python3"
  },
  "language_info": {
   "codemirror_mode": {
    "name": "ipython",
    "version": 3
   },
   "file_extension": ".py",
   "mimetype": "text/x-python",
   "name": "python",
   "nbconvert_exporter": "python",
   "pygments_lexer": "ipython3",
   "version": "3.7.11"
  },
  "orig_nbformat": 4
 },
 "nbformat": 4,
 "nbformat_minor": 2
}
