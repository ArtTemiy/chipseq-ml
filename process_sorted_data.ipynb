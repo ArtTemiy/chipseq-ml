{
 "cells": [
  {
   "cell_type": "code",
   "execution_count": 6,
   "metadata": {},
   "outputs": [],
   "source": [
    "import numpy as np\n",
    "import matplotlib.pyplot as plt\n",
    "import pandas as pd\n",
    "import os\n",
    "\n",
    "import json"
   ]
  },
  {
   "cell_type": "code",
   "execution_count": 12,
   "metadata": {},
   "outputs": [],
   "source": [
    "def read_bed(file):\n",
    "    data = pd.read_csv(file, sep='\\t', header=None)\n",
    "    data.columns = ['chr', 'start', 'end', 'additional_data', 'value', 'orientation', 'start2', 'end2'][:data.columns.shape[0]]\n",
    "    return data\n",
    "\n",
    "def to_bed(data, path):\n",
    "    data.to_csv(path, sep='\\t', header=None, index=None)\n"
   ]
  },
  {
   "cell_type": "code",
   "execution_count": 23,
   "metadata": {},
   "outputs": [
    {
     "data": {
      "text/plain": [
       "15"
      ]
     },
     "execution_count": 23,
     "metadata": {},
     "output_type": "execute_result"
    }
   ],
   "source": [
    "params = json.load(open('./global_data_params.json', 'r'))\n",
    "bps_per_bin = params['region_length'] // params['bins_count']\n",
    "bps_per_bin"
   ]
  },
  {
   "cell_type": "code",
   "execution_count": 28,
   "metadata": {},
   "outputs": [],
   "source": [
    "def normalize(data):\n",
    "    data.start = data.start // bps_per_bin * bps_per_bin\n",
    "    data.end = data.end // bps_per_bin * bps_per_bin\n",
    "    data.start2 = data.start\n",
    "    data.end2 = data.end\n",
    "    data.drop((data.end == data.start).index)\n",
    "    return data\n"
   ]
  },
  {
   "cell_type": "code",
   "execution_count": 29,
   "metadata": {},
   "outputs": [
    {
     "name": "stdout",
     "output_type": "stream",
     "text": [
      "mm9_Histone_H2Bub.sorted.bed\n",
      "mm9_Histone_H3S10ph.sorted.bed\n",
      "mm9_Histone_H3K18ac.sorted.bed\n",
      "mm9_Histone_H3K4me3.sorted.bed\n",
      "mm9_Histone_H4K20me1.sorted.bed\n",
      "mm9_Histone_H2A.X.sorted.bed\n",
      "mm9_Histone_H3K79me2.sorted.bed\n",
      "mm9_Histone_H3K36me3.sorted.bed\n",
      "mm9_Histone_H3K4me1.sorted.bed\n",
      "mm9_Histone_H4K20me3.sorted.bed\n",
      "mm9_Histone_H3K9me3.sorted.bed\n",
      "mm9_Histone_H3.sorted.bed\n",
      "mm9_Histone_H2AK119Ub.sorted.bed\n",
      "mm9_Histone_macroH2A1.sorted.bed\n",
      "mm9_Histone_H2A.Z.sorted.bed\n",
      "mm9_Histone_macroH2A2.sorted.bed\n",
      "mm9_Histone_H3K27me3.sorted.bed\n",
      "mm9_Histone_H3K79me3.sorted.bed\n",
      "mm9_Histone_H4K16ac.sorted.bed\n",
      "mm9_Histone_H3K9ac.sorted.bed\n",
      "mm9_Histone_H3S28ph.sorted.bed\n",
      "mm9_Histone_H3ac.sorted.bed\n",
      "mm9_Histone_H3K27ac.sorted.bed\n",
      "mm9_Histone_H3K4me2.sorted.bed\n",
      "mm9_Histone_H4ac.sorted.bed\n",
      "mm9_Histone_H3K9acS10ph.sorted.bed\n",
      "mm9_Histone_H3R17me2.sorted.bed\n",
      "mm9_Histone_Hmga2.sorted.bed\n",
      "mm9_Histone_H3.3.sorted.bed\n",
      "mm9_Histone_H3K36me2.sorted.bed\n",
      "mm9_Histone_H2A.XS139ph.sorted.bed\n",
      "mm9_Histone_H3K9K14ac.sorted.bed\n",
      "mm9_Histone_H3K9me2.sorted.bed\n"
     ]
    }
   ],
   "source": [
    "dir_path = './sorted_data'\n",
    "for data_path in os.listdir(dir_path):\n",
    "    print(data_path)\n",
    "    to_bed(\n",
    "        normalize(\n",
    "            read_bed(f'{dir_path}/{data_path}')\n",
    "        ),\n",
    "        f'./discretized_data/{data_path}'\n",
    "    )"
   ]
  },
  {
   "cell_type": "code",
   "execution_count": null,
   "metadata": {},
   "outputs": [],
   "source": []
  }
 ],
 "metadata": {
  "interpreter": {
   "hash": "524e0f39c38dd277617e747d9bbd48052ded7b806620e347c180d239a9b908b1"
  },
  "kernelspec": {
   "display_name": "Python 3.7.11 ('bioinf')",
   "language": "python",
   "name": "python3"
  },
  "language_info": {
   "codemirror_mode": {
    "name": "ipython",
    "version": 3
   },
   "file_extension": ".py",
   "mimetype": "text/x-python",
   "name": "python",
   "nbconvert_exporter": "python",
   "pygments_lexer": "ipython3",
   "version": "3.7.11"
  },
  "orig_nbformat": 4
 },
 "nbformat": 4,
 "nbformat_minor": 2
}
